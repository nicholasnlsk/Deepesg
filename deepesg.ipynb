{
 "cells": [
  {
   "cell_type": "code",
   "execution_count": 1,
   "metadata": {},
   "outputs": [],
   "source": [
    "import pandas as pd\n",
    "import numpy as np\n",
    "from pandas import read_csv\n",
    "from pandas import DataFrame\n",
    "from pandas import concat"
   ]
  },
  {
   "cell_type": "code",
   "execution_count": 2,
   "metadata": {},
   "outputs": [],
   "source": [
    "#Read file accounts and allocate list_accounts to be calculated\n",
    "accounts = pd.read_excel(\"chart_of_accounts.xlsx\")\n",
    "list_accounts = accounts['account']\n",
    "\n",
    "#Read file ledger *ATTENTION : only to be used if file is small, otherwise it wil take great computational time\n",
    "ledger = pd.read_excel(\"general_ledger.xlsx\")"
   ]
  },
  {
   "cell_type": "code",
   "execution_count": 3,
   "metadata": {},
   "outputs": [],
   "source": [
    "#filter ledger accounts by account in list_accounts, this way it drop accounts that will not be evaluated and reduce\n",
    "# computational time\n",
    "ledger_filtered = ledger.query('account in @list_accounts')\n",
    "\n",
    "#group accounts by account having the sum parameter of values\n",
    "ledger_group = ledger_filtered.groupby(['account'], as_index = False).agg({'value' : 'sum'})"
   ]
  },
  {
   "cell_type": "code",
   "execution_count": 4,
   "metadata": {},
   "outputs": [],
   "source": [
    "#this function determines the sum of values stored in the child and parent leaves\n",
    "#df_parent : Dataframe with leaves parent and value\n",
    "#df_child : Dataframe with leaves child and value\n",
    "#return the Dataframe with parent leaves and the sum value of its children\n",
    "\n",
    "#in summary, if the substring account child contain the parent substring account, then sum its values\n",
    "\n",
    "def sum_leaves(df_parent, df_child):\n",
    "    #create dict leaves to avoid duplicates, each key will allocate the account parent with its respective sum\n",
    "    #values of its children\n",
    "    leaves = {} \n",
    "    \n",
    "    #for each parent, run its children having the last account substring matching its parent and sum the respective values\n",
    "    for index_parent, leave_parent in enumerate(df_parent.iloc[:, 0] ): \n",
    "        sum_leave_parent = 0\n",
    "        for index_child, leave_child in enumerate(df_child.iloc[:, 0]):\n",
    "            if str(leave_parent) in str(leave_child):\n",
    "                sum_leave_parent = sum_leave_parent + df_child.iloc[index_child]['value']\n",
    "            leaves[leave_parent] = sum_leave_parent\n",
    "            \n",
    "    #create Dataframe for parents and values of its children\n",
    "    df_leaves = pd.DataFrame(list(leaves.items()),columns = ['account','value']) \n",
    "    return df_leaves"
   ]
  },
  {
   "cell_type": "code",
   "execution_count": 5,
   "metadata": {},
   "outputs": [],
   "source": [
    "#determinate the leaves accounts substring to be evaluated by its parents\n",
    "#in summary, split the accounts strings to allocate the parents and children leaves\n",
    "\n",
    "def account_leaves(df):\n",
    "    #split each segment of account to determine the parent and child leaves\n",
    "    accounts_leaves = df['account'].str.split('.',expand=True)\n",
    "\n",
    "    #determinate the leaves (in this case, leaves3, leaves2, leaves1 and leaves0)\n",
    "    accounts_leaves['leaves4'] = accounts_leaves[0] + \".\" + accounts_leaves[1] + \".\" + accounts_leaves[2] + \".\" + accounts_leaves[3] + \".\" + accounts_leaves[4]\n",
    "    accounts_leaves['leaves3'] = accounts_leaves[0] + \".\" + accounts_leaves[1] + \".\" + accounts_leaves[2] + \".\" + accounts_leaves[3]\n",
    "    accounts_leaves['leaves2'] = accounts_leaves[0] + \".\" + accounts_leaves[1] + \".\" + accounts_leaves[2]\n",
    "    accounts_leaves['leaves1'] = accounts_leaves[0] + \".\" + accounts_leaves[1]\n",
    "    accounts_leaves['leaves0'] = accounts_leaves[0]\n",
    "    return accounts_leaves"
   ]
  },
  {
   "cell_type": "code",
   "execution_count": 6,
   "metadata": {},
   "outputs": [],
   "source": [
    "#Determine the parent dataframe with its children values\n",
    "accounts_leaves = account_leaves(ledger_group)\n",
    "\n",
    "#create a dataframe of leaves and the values stored\n",
    "df_leaves = pd.DataFrame (accounts_leaves, columns = ['leaves0', 'leaves1', 'leaves2', 'leaves3', 'leaves4'])\n",
    "df_leaves['value'] = ledger_group['value']\n",
    "\n",
    "#determine the parent values of leaves (in this case, leaves3, leaves2, leaves1 and leaves0) stored in each Dataframe\n",
    "#for each leaf parent the function is run again for optimization\n",
    "\n",
    "df_parent3 = sum_leaves(pd.DataFrame(df_leaves, columns = ['leaves3', 'value']),\n",
    "                       pd.DataFrame (df_leaves, columns = ['leaves4', 'value']))\n",
    "df_parent2 = sum_leaves(pd.DataFrame(df_leaves, columns = ['leaves2', 'value']),\n",
    "                       pd.DataFrame (df_parent3, columns = ['account', 'value']))\n",
    "df_parent1 = sum_leaves(pd.DataFrame(df_leaves, columns = ['leaves1', 'value']),\n",
    "                       pd.DataFrame (df_parent2, columns = ['account', 'value']))\n",
    "df_parent0 = sum_leaves(pd.DataFrame(df_leaves, columns = ['leaves0', 'value']),\n",
    "                       pd.DataFrame (df_parent1, columns = ['account', 'value']))\n",
    "\n",
    "#concatenate the parent values\n",
    "df_leaves_parents = concat([df_parent3, df_parent2, df_parent1, df_parent0], ignore_index=True)\n",
    "\n",
    "#drop nan in case there is an empty account\n",
    "df_leaves_parents = df_leaves_parents[df_leaves_parents['account'].notna()]"
   ]
  },
  {
   "cell_type": "code",
   "execution_count": 7,
   "metadata": {},
   "outputs": [],
   "source": [
    "#concat the leaves and the group dataframe\n",
    "ledger = concat([ledger_group, df_leaves_parents])\n",
    "\n",
    "#order the account number by ascending order\n",
    "ledger = ledger.sort_values(by = 'account', ascending=True)\n",
    "\n",
    "#create file for the ledger and sum of values\n",
    "ledger.to_excel(\"ledger_sum_values.xlsx\")"
   ]
  },
  {
   "cell_type": "markdown",
   "metadata": {},
   "source": [
    "-----------------------------------------------------------------------------------------------------------------------------"
   ]
  },
  {
   "cell_type": "markdown",
   "metadata": {},
   "source": [
    "This part treats big files \"ledger\" and treat them accordingly. In this case the format is presumed to be \"ledger.csv\""
   ]
  },
  {
   "cell_type": "code",
   "execution_count": 8,
   "metadata": {},
   "outputs": [
    {
     "name": "stdout",
     "output_type": "stream",
     "text": [
      "1\n",
      "2\n",
      "3\n",
      "4\n",
      "5\n",
      "6\n",
      "7\n",
      "8\n",
      "9\n"
     ]
    }
   ],
   "source": [
    "#ONLY FOR BIG FILES\n",
    "\n",
    "#read acocunts and allocate list accounts\n",
    "accounts = pd.read_excel(\"chart_of_accounts.xlsx\")\n",
    "list_accounts = accounts['account']\n",
    "\n",
    "#this code runs big files \"\"general_ledger.csv\" in chunks and treat them accordingly\n",
    "#in my experience treating files over 20Gb, a chunk size of 1000000 does not causes error or great computational time\n",
    "\n",
    "iteration = 1\n",
    "flag = False\n",
    "for chunk in pd.read_csv(\"general_ledger.csv\", sep = ';', chunksize=1000): #chunksize of 1000 for visualisation\n",
    "    #visualise iteration\n",
    "    print(iteration)\n",
    "    \n",
    "    #filter dataframe by account to be evaluated\n",
    "    ledger_filtered = chunk.query('account in @list_accounts')\n",
    "    \n",
    "    #convert values to float\n",
    "    ledger_filtered['value'] = ledger_filtered['value'].str.replace(',','.')\n",
    "    ledger_filtered['value'] = pd.to_numeric(ledger_filtered['value'], downcast=\"float\")\n",
    "   \n",
    "    #group accounts by account having the sum parameter of values\n",
    "    ledger_group = ledger_filtered.groupby(['account'], as_index = False).agg({'value' : 'sum'})\n",
    "    \n",
    "    #if first iteration, create an auxiliar dataframe for concatenation of subsequent dataframes\n",
    "    if flag:\n",
    "        ledger_group = pd.concat([ledger_group,aux_df])\n",
    "        ledger_group = ledger_group.groupby(['account'], as_index = False).agg({'value' : 'sum'})\n",
    "        aux_df = ledger_group\n",
    "    else:\n",
    "        aux_df = ledger_group\n",
    "        flag = True\n",
    "        \n",
    "    iteration = iteration + 1"
   ]
  },
  {
   "cell_type": "markdown",
   "metadata": {},
   "source": [
    "Evaluate parent values for respective childern"
   ]
  },
  {
   "cell_type": "code",
   "execution_count": 9,
   "metadata": {},
   "outputs": [],
   "source": [
    "#RUN AGAIN FOR LEAVES PARENTS\n",
    "accounts_leaves = account_leaves(ledger_group)\n",
    "\n",
    "#create a dataframe of leaves and the values stored\n",
    "df_leaves = pd.DataFrame (accounts_leaves, columns = ['leaves0', 'leaves1', 'leaves2', 'leaves3', 'leaves4'])\n",
    "df_leaves['value'] = ledger_group['value']\n",
    "\n",
    "#determine the parent values of leaves (in this case, leaves3, leaves2, leaves1 and leaves0) stored in each Dataframe\n",
    "#for each leaf parent the function is run again for optimization\n",
    "\n",
    "df_parent3 = sum_leaves(pd.DataFrame(df_leaves, columns = ['leaves3', 'value']),\n",
    "                       pd.DataFrame (df_leaves, columns = ['leaves4', 'value']))\n",
    "df_parent2 = sum_leaves(pd.DataFrame(df_leaves, columns = ['leaves2', 'value']),\n",
    "                       pd.DataFrame (df_parent3, columns = ['account', 'value']))\n",
    "df_parent1 = sum_leaves(pd.DataFrame(df_leaves, columns = ['leaves1', 'value']),\n",
    "                       pd.DataFrame (df_parent2, columns = ['account', 'value']))\n",
    "df_parent0 = sum_leaves(pd.DataFrame(df_leaves, columns = ['leaves0', 'value']),\n",
    "                       pd.DataFrame (df_parent1, columns = ['account', 'value']))\n",
    "\n",
    "#concatenate the parent values\n",
    "df_leaves_parents = concat([df_parent3, df_parent2, df_parent1, df_parent0], ignore_index=True)\n",
    "#in case there is an empty account\n",
    "df_leaves_parents = df_leaves_parents[df_leaves_parents['account'].notna()]"
   ]
  },
  {
   "cell_type": "markdown",
   "metadata": {},
   "source": [
    "finally concat the parents and ledger_group dataframe"
   ]
  },
  {
   "cell_type": "code",
   "execution_count": 10,
   "metadata": {},
   "outputs": [],
   "source": [
    "#concat the leaves and the group dataframe\n",
    "ledger = concat([ledger_group, df_leaves_parents])\n",
    "\n",
    "#order the account number by ascending order\n",
    "ledger = ledger.sort_values(by = 'account', ascending=True)\n",
    "\n",
    "#create file for the ledger and sum of values\n",
    "ledger.to_excel(\"ledger_sum_values.xlsx\")"
   ]
  }
 ],
 "metadata": {
  "kernelspec": {
   "display_name": "Python 3",
   "language": "python",
   "name": "python3"
  },
  "language_info": {
   "codemirror_mode": {
    "name": "ipython",
    "version": 3
   },
   "file_extension": ".py",
   "mimetype": "text/x-python",
   "name": "python",
   "nbconvert_exporter": "python",
   "pygments_lexer": "ipython3",
   "version": "3.8.5"
  }
 },
 "nbformat": 4,
 "nbformat_minor": 4
}
